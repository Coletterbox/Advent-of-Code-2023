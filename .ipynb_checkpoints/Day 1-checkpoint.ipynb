{
 "cells": [
  {
   "cell_type": "markdown",
   "metadata": {},
   "source": [
    "Day 1, Part 1"
   ]
  },
  {
   "cell_type": "code",
   "execution_count": 46,
   "metadata": {},
   "outputs": [],
   "source": [
    "def read_input(input):\n",
    "    for line in input.readlines():\n",
    "        print(line)\n",
    "    input.close()"
   ]
  },
  {
   "cell_type": "code",
   "execution_count": 47,
   "metadata": {},
   "outputs": [
    {
     "name": "stdout",
     "output_type": "stream",
     "text": [
      "1abc2\n",
      "\n",
      "pqr3stu8vwx\n",
      "\n",
      "a1b2c3d4e5f\n",
      "\n",
      "treb7uchet\n"
     ]
    }
   ],
   "source": [
    "sample_input = open(\"Day 1 Sample Input\", \"r\")\n",
    "read_input(sample_input)"
   ]
  },
  {
   "cell_type": "code",
   "execution_count": 48,
   "metadata": {},
   "outputs": [],
   "source": [
    "def remove_letters(input):\n",
    "    num_list = []\n",
    "    for line in input.readlines():\n",
    "#         print(line)\n",
    "        numbers = \"\"\n",
    "        for character in line:\n",
    "#             print(character)\n",
    "            if character.isdigit():\n",
    "                numbers += character\n",
    "        num_list.append(numbers)\n",
    "#     print(num_list)\n",
    "    input.close()\n",
    "    return num_list"
   ]
  },
  {
   "cell_type": "code",
   "execution_count": 49,
   "metadata": {},
   "outputs": [
    {
     "data": {
      "text/plain": [
       "['12', '38', '12345', '7']"
      ]
     },
     "execution_count": 49,
     "metadata": {},
     "output_type": "execute_result"
    }
   ],
   "source": [
    "sample_input = open(\"Day 1 Sample Input\", \"r\")\n",
    "remove_letters(sample_input)"
   ]
  },
  {
   "cell_type": "code",
   "execution_count": 50,
   "metadata": {},
   "outputs": [],
   "source": [
    "def get_calibration_values(numbers):\n",
    "    calibration_values = []\n",
    "    for number_string in numbers:\n",
    "#         print(number_string[0])\n",
    "#         print(number_string[len(number_string)-1])\n",
    "        calibration_value = number_string[0] + number_string[len(number_string)-1]\n",
    "        calibration_values.append(calibration_value)\n",
    "    return calibration_values"
   ]
  },
  {
   "cell_type": "code",
   "execution_count": 51,
   "metadata": {},
   "outputs": [
    {
     "data": {
      "text/plain": [
       "['12', '38', '15', '77']"
      ]
     },
     "execution_count": 51,
     "metadata": {},
     "output_type": "execute_result"
    }
   ],
   "source": [
    "sample_input = open(\"Day 1 Sample Input\", \"r\")\n",
    "get_calibration_values(num_list)"
   ]
  },
  {
   "cell_type": "code",
   "execution_count": 52,
   "metadata": {},
   "outputs": [],
   "source": [
    "def add_calibration_values(calibration_values_list):\n",
    "    total = 0\n",
    "    for number_string in calibration_values_list:\n",
    "        total += int(number_string)\n",
    "    return total"
   ]
  },
  {
   "cell_type": "code",
   "execution_count": 53,
   "metadata": {},
   "outputs": [
    {
     "data": {
      "text/plain": [
       "142"
      ]
     },
     "execution_count": 53,
     "metadata": {},
     "output_type": "execute_result"
    }
   ],
   "source": [
    "sample_input = open(\"Day 1 Sample Input\", \"r\")\n",
    "add_calibration_values(get_calibration_values(num_list))"
   ]
  },
  {
   "cell_type": "code",
   "execution_count": 54,
   "metadata": {},
   "outputs": [
    {
     "data": {
      "text/plain": [
       "55816"
      ]
     },
     "execution_count": 54,
     "metadata": {},
     "output_type": "execute_result"
    }
   ],
   "source": [
    "input = open(\"Day 1 Input\", \"r\")\n",
    "add_calibration_values(get_calibration_values(remove_letters(input)))"
   ]
  },
  {
   "cell_type": "markdown",
   "metadata": {},
   "source": [
    "55816"
   ]
  },
  {
   "cell_type": "markdown",
   "metadata": {},
   "source": [
    "Day 1, Part 2"
   ]
  },
  {
   "cell_type": "code",
   "execution_count": 108,
   "metadata": {},
   "outputs": [],
   "source": [
    "import re\n",
    "\n",
    "def replace_first_spelled_out_digit(string):\n",
    "    temp = \"\"\n",
    "    def idk(string):\n",
    "        for character in string:\n",
    "            index = 3\n",
    "            partial_string = string[:index]\n",
    "            for character2 in partial_string:\n",
    "                if character2.isdigit():\n",
    "                    print(character2)\n",
    "                    return character2\n",
    "                    break\n",
    "                if re.search(\"one|two|three|four|five|six|seven|eight|nine\", partial_string):\n",
    "                    line = partial_string\n",
    "                    line = line.replace(\"one\", \"1\")\n",
    "                    line = line.replace(\"two\", \"2\")\n",
    "                    line = line.replace(\"three\", \"3\")\n",
    "                    line = line.replace(\"four\", \"4\")\n",
    "                    line = line.replace(\"five\", \"5\")\n",
    "                    line = line.replace(\"six\", \"6\")\n",
    "                    line = line.replace(\"seven\", \"7\")\n",
    "                    line = line.replace(\"eight\", \"8\")\n",
    "                    line = line.replace(\"nine\", \"9\")\n",
    "                    for character3 in line:\n",
    "                        if character3.isdigit():\n",
    "                            print(character3)\n",
    "                            return character3\n",
    "                else:\n",
    "                    index += 1\n",
    "                    idk(string[:index])\n",
    "    idk(string)"
   ]
  },
  {
   "cell_type": "code",
   "execution_count": 109,
   "metadata": {},
   "outputs": [
    {
     "data": {
      "text/plain": [
       "<re.Match object; span=(0, 3), match='six'>"
      ]
     },
     "execution_count": 109,
     "metadata": {},
     "output_type": "execute_result"
    }
   ],
   "source": [
    "import re\n",
    "partial_string = \"sixbfjblhsjr3\"\n",
    "re.search(\"one|two|three|four|five|six|seven|eight|nine\", partial_string)"
   ]
  },
  {
   "cell_type": "code",
   "execution_count": 110,
   "metadata": {},
   "outputs": [
    {
     "name": "stdout",
     "output_type": "stream",
     "text": [
      "4\n"
     ]
    }
   ],
   "source": [
    "replace_first_spelled_out_digit(\"4threethreegctxg3dmbm1\")"
   ]
  },
  {
   "cell_type": "code",
   "execution_count": 111,
   "metadata": {},
   "outputs": [
    {
     "name": "stdout",
     "output_type": "stream",
     "text": [
      "6\n"
     ]
    }
   ],
   "source": [
    "replace_first_spelled_out_digit(\"sixbfjblhsjr3\")"
   ]
  },
  {
   "cell_type": "code",
   "execution_count": 112,
   "metadata": {},
   "outputs": [],
   "source": [
    "def remove_letters(input):\n",
    "    num_list = []\n",
    "    for line in input.readlines():\n",
    "#         print(line)\n",
    "#         line = line.replace(\"one\", \"1\")\n",
    "#         line = line.replace(\"two\", \"2\")\n",
    "#         line = line.replace(\"three\", \"3\")\n",
    "#         line = line.replace(\"four\", \"4\")\n",
    "#         line = line.replace(\"five\", \"5\")\n",
    "#         line = line.replace(\"six\", \"6\")\n",
    "#         line = line.replace(\"seven\", \"7\")\n",
    "#         line = line.replace(\"eight\", \"8\")\n",
    "#         line = line.replace(\"nine\", \"9\")\n",
    "        replace_first_spelled_out_digit(line)\n",
    "        numbers = \"\"\n",
    "        for character in line:\n",
    "#             print(character)\n",
    "            if character.isdigit():\n",
    "                numbers += character\n",
    "        num_list.append(numbers)\n",
    "#     print(num_list)\n",
    "    input.close()\n",
    "    return num_list"
   ]
  },
  {
   "cell_type": "code",
   "execution_count": 113,
   "metadata": {},
   "outputs": [
    {
     "ename": "RecursionError",
     "evalue": "maximum recursion depth exceeded while calling a Python object",
     "output_type": "error",
     "traceback": [
      "\u001b[0;31m---------------------------------------------------------------------------\u001b[0m",
      "\u001b[0;31mRecursionError\u001b[0m                            Traceback (most recent call last)",
      "\u001b[0;32m<ipython-input-113-6b8bd60f45fa>\u001b[0m in \u001b[0;36m<module>\u001b[0;34m\u001b[0m\n\u001b[1;32m      2\u001b[0m \u001b[0;31m# remove_letters(input)\u001b[0m\u001b[0;34m\u001b[0m\u001b[0;34m\u001b[0m\u001b[0;34m\u001b[0m\u001b[0m\n\u001b[1;32m      3\u001b[0m \u001b[0;31m# get_calibration_values(remove_letters(input))\u001b[0m\u001b[0;34m\u001b[0m\u001b[0;34m\u001b[0m\u001b[0;34m\u001b[0m\u001b[0m\n\u001b[0;32m----> 4\u001b[0;31m \u001b[0madd_calibration_values\u001b[0m\u001b[0;34m(\u001b[0m\u001b[0mget_calibration_values\u001b[0m\u001b[0;34m(\u001b[0m\u001b[0mremove_letters\u001b[0m\u001b[0;34m(\u001b[0m\u001b[0minput\u001b[0m\u001b[0;34m)\u001b[0m\u001b[0;34m)\u001b[0m\u001b[0;34m)\u001b[0m\u001b[0;34m\u001b[0m\u001b[0;34m\u001b[0m\u001b[0m\n\u001b[0m",
      "\u001b[0;32m<ipython-input-112-f5f81ffda672>\u001b[0m in \u001b[0;36mremove_letters\u001b[0;34m(input)\u001b[0m\n\u001b[1;32m     12\u001b[0m \u001b[0;31m#         line = line.replace(\"eight\", \"8\")\u001b[0m\u001b[0;34m\u001b[0m\u001b[0;34m\u001b[0m\u001b[0;34m\u001b[0m\u001b[0m\n\u001b[1;32m     13\u001b[0m \u001b[0;31m#         line = line.replace(\"nine\", \"9\")\u001b[0m\u001b[0;34m\u001b[0m\u001b[0;34m\u001b[0m\u001b[0;34m\u001b[0m\u001b[0m\n\u001b[0;32m---> 14\u001b[0;31m         \u001b[0mreplace_first_spelled_out_digit\u001b[0m\u001b[0;34m(\u001b[0m\u001b[0mline\u001b[0m\u001b[0;34m)\u001b[0m\u001b[0;34m\u001b[0m\u001b[0;34m\u001b[0m\u001b[0m\n\u001b[0m\u001b[1;32m     15\u001b[0m         \u001b[0mnumbers\u001b[0m \u001b[0;34m=\u001b[0m \u001b[0;34m\"\"\u001b[0m\u001b[0;34m\u001b[0m\u001b[0;34m\u001b[0m\u001b[0m\n\u001b[1;32m     16\u001b[0m         \u001b[0;32mfor\u001b[0m \u001b[0mcharacter\u001b[0m \u001b[0;32min\u001b[0m \u001b[0mline\u001b[0m\u001b[0;34m:\u001b[0m\u001b[0;34m\u001b[0m\u001b[0;34m\u001b[0m\u001b[0m\n",
      "\u001b[0;32m<ipython-input-108-0e795adf2f61>\u001b[0m in \u001b[0;36mreplace_first_spelled_out_digit\u001b[0;34m(string)\u001b[0m\n\u001b[1;32m     30\u001b[0m                     \u001b[0mindex\u001b[0m \u001b[0;34m+=\u001b[0m \u001b[0;36m1\u001b[0m\u001b[0;34m\u001b[0m\u001b[0;34m\u001b[0m\u001b[0m\n\u001b[1;32m     31\u001b[0m                     \u001b[0midk\u001b[0m\u001b[0;34m(\u001b[0m\u001b[0mstring\u001b[0m\u001b[0;34m[\u001b[0m\u001b[0;34m:\u001b[0m\u001b[0mindex\u001b[0m\u001b[0;34m]\u001b[0m\u001b[0;34m)\u001b[0m\u001b[0;34m\u001b[0m\u001b[0;34m\u001b[0m\u001b[0m\n\u001b[0;32m---> 32\u001b[0;31m     \u001b[0midk\u001b[0m\u001b[0;34m(\u001b[0m\u001b[0mstring\u001b[0m\u001b[0;34m)\u001b[0m\u001b[0;34m\u001b[0m\u001b[0;34m\u001b[0m\u001b[0m\n\u001b[0m",
      "\u001b[0;32m<ipython-input-108-0e795adf2f61>\u001b[0m in \u001b[0;36midk\u001b[0;34m(string)\u001b[0m\n\u001b[1;32m     29\u001b[0m                 \u001b[0;32melse\u001b[0m\u001b[0;34m:\u001b[0m\u001b[0;34m\u001b[0m\u001b[0;34m\u001b[0m\u001b[0m\n\u001b[1;32m     30\u001b[0m                     \u001b[0mindex\u001b[0m \u001b[0;34m+=\u001b[0m \u001b[0;36m1\u001b[0m\u001b[0;34m\u001b[0m\u001b[0;34m\u001b[0m\u001b[0m\n\u001b[0;32m---> 31\u001b[0;31m                     \u001b[0midk\u001b[0m\u001b[0;34m(\u001b[0m\u001b[0mstring\u001b[0m\u001b[0;34m[\u001b[0m\u001b[0;34m:\u001b[0m\u001b[0mindex\u001b[0m\u001b[0;34m]\u001b[0m\u001b[0;34m)\u001b[0m\u001b[0;34m\u001b[0m\u001b[0;34m\u001b[0m\u001b[0m\n\u001b[0m\u001b[1;32m     32\u001b[0m     \u001b[0midk\u001b[0m\u001b[0;34m(\u001b[0m\u001b[0mstring\u001b[0m\u001b[0;34m)\u001b[0m\u001b[0;34m\u001b[0m\u001b[0;34m\u001b[0m\u001b[0m\n",
      "... last 1 frames repeated, from the frame below ...\n",
      "\u001b[0;32m<ipython-input-108-0e795adf2f61>\u001b[0m in \u001b[0;36midk\u001b[0;34m(string)\u001b[0m\n\u001b[1;32m     29\u001b[0m                 \u001b[0;32melse\u001b[0m\u001b[0;34m:\u001b[0m\u001b[0;34m\u001b[0m\u001b[0;34m\u001b[0m\u001b[0m\n\u001b[1;32m     30\u001b[0m                     \u001b[0mindex\u001b[0m \u001b[0;34m+=\u001b[0m \u001b[0;36m1\u001b[0m\u001b[0;34m\u001b[0m\u001b[0;34m\u001b[0m\u001b[0m\n\u001b[0;32m---> 31\u001b[0;31m                     \u001b[0midk\u001b[0m\u001b[0;34m(\u001b[0m\u001b[0mstring\u001b[0m\u001b[0;34m[\u001b[0m\u001b[0;34m:\u001b[0m\u001b[0mindex\u001b[0m\u001b[0;34m]\u001b[0m\u001b[0;34m)\u001b[0m\u001b[0;34m\u001b[0m\u001b[0;34m\u001b[0m\u001b[0m\n\u001b[0m\u001b[1;32m     32\u001b[0m     \u001b[0midk\u001b[0m\u001b[0;34m(\u001b[0m\u001b[0mstring\u001b[0m\u001b[0;34m)\u001b[0m\u001b[0;34m\u001b[0m\u001b[0;34m\u001b[0m\u001b[0m\n",
      "\u001b[0;31mRecursionError\u001b[0m: maximum recursion depth exceeded while calling a Python object"
     ]
    }
   ],
   "source": [
    "input = open(\"Day 1 Input\", \"r\")\n",
    "# remove_letters(input)\n",
    "# get_calibration_values(remove_letters(input))\n",
    "add_calibration_values(get_calibration_values(remove_letters(input)))"
   ]
  },
  {
   "cell_type": "code",
   "execution_count": 66,
   "metadata": {},
   "outputs": [
    {
     "data": {
      "text/plain": [
       "142"
      ]
     },
     "execution_count": 66,
     "metadata": {},
     "output_type": "execute_result"
    }
   ],
   "source": [
    "input = open(\"Day 1 Sample Input\", \"r\")\n",
    "add_calibration_values(get_calibration_values(remove_letters(input)))"
   ]
  },
  {
   "cell_type": "code",
   "execution_count": 114,
   "metadata": {},
   "outputs": [
    {
     "ename": "RecursionError",
     "evalue": "maximum recursion depth exceeded while calling a Python object",
     "output_type": "error",
     "traceback": [
      "\u001b[0;31m---------------------------------------------------------------------------\u001b[0m",
      "\u001b[0;31mRecursionError\u001b[0m                            Traceback (most recent call last)",
      "\u001b[0;32m<ipython-input-114-13bd167c64ba>\u001b[0m in \u001b[0;36m<module>\u001b[0;34m\u001b[0m\n\u001b[1;32m      1\u001b[0m \u001b[0minput\u001b[0m \u001b[0;34m=\u001b[0m \u001b[0mopen\u001b[0m\u001b[0;34m(\u001b[0m\u001b[0;34m\"Day 1 Test Input\"\u001b[0m\u001b[0;34m,\u001b[0m \u001b[0;34m\"r\"\u001b[0m\u001b[0;34m)\u001b[0m\u001b[0;34m\u001b[0m\u001b[0;34m\u001b[0m\u001b[0m\n\u001b[0;32m----> 2\u001b[0;31m \u001b[0mremove_letters\u001b[0m\u001b[0;34m(\u001b[0m\u001b[0minput\u001b[0m\u001b[0;34m)\u001b[0m\u001b[0;34m\u001b[0m\u001b[0;34m\u001b[0m\u001b[0m\n\u001b[0m",
      "\u001b[0;32m<ipython-input-112-f5f81ffda672>\u001b[0m in \u001b[0;36mremove_letters\u001b[0;34m(input)\u001b[0m\n\u001b[1;32m     12\u001b[0m \u001b[0;31m#         line = line.replace(\"eight\", \"8\")\u001b[0m\u001b[0;34m\u001b[0m\u001b[0;34m\u001b[0m\u001b[0;34m\u001b[0m\u001b[0m\n\u001b[1;32m     13\u001b[0m \u001b[0;31m#         line = line.replace(\"nine\", \"9\")\u001b[0m\u001b[0;34m\u001b[0m\u001b[0;34m\u001b[0m\u001b[0;34m\u001b[0m\u001b[0m\n\u001b[0;32m---> 14\u001b[0;31m         \u001b[0mreplace_first_spelled_out_digit\u001b[0m\u001b[0;34m(\u001b[0m\u001b[0mline\u001b[0m\u001b[0;34m)\u001b[0m\u001b[0;34m\u001b[0m\u001b[0;34m\u001b[0m\u001b[0m\n\u001b[0m\u001b[1;32m     15\u001b[0m         \u001b[0mnumbers\u001b[0m \u001b[0;34m=\u001b[0m \u001b[0;34m\"\"\u001b[0m\u001b[0;34m\u001b[0m\u001b[0;34m\u001b[0m\u001b[0m\n\u001b[1;32m     16\u001b[0m         \u001b[0;32mfor\u001b[0m \u001b[0mcharacter\u001b[0m \u001b[0;32min\u001b[0m \u001b[0mline\u001b[0m\u001b[0;34m:\u001b[0m\u001b[0;34m\u001b[0m\u001b[0;34m\u001b[0m\u001b[0m\n",
      "\u001b[0;32m<ipython-input-108-0e795adf2f61>\u001b[0m in \u001b[0;36mreplace_first_spelled_out_digit\u001b[0;34m(string)\u001b[0m\n\u001b[1;32m     30\u001b[0m                     \u001b[0mindex\u001b[0m \u001b[0;34m+=\u001b[0m \u001b[0;36m1\u001b[0m\u001b[0;34m\u001b[0m\u001b[0;34m\u001b[0m\u001b[0m\n\u001b[1;32m     31\u001b[0m                     \u001b[0midk\u001b[0m\u001b[0;34m(\u001b[0m\u001b[0mstring\u001b[0m\u001b[0;34m[\u001b[0m\u001b[0;34m:\u001b[0m\u001b[0mindex\u001b[0m\u001b[0;34m]\u001b[0m\u001b[0;34m)\u001b[0m\u001b[0;34m\u001b[0m\u001b[0;34m\u001b[0m\u001b[0m\n\u001b[0;32m---> 32\u001b[0;31m     \u001b[0midk\u001b[0m\u001b[0;34m(\u001b[0m\u001b[0mstring\u001b[0m\u001b[0;34m)\u001b[0m\u001b[0;34m\u001b[0m\u001b[0;34m\u001b[0m\u001b[0m\n\u001b[0m",
      "\u001b[0;32m<ipython-input-108-0e795adf2f61>\u001b[0m in \u001b[0;36midk\u001b[0;34m(string)\u001b[0m\n\u001b[1;32m     29\u001b[0m                 \u001b[0;32melse\u001b[0m\u001b[0;34m:\u001b[0m\u001b[0;34m\u001b[0m\u001b[0;34m\u001b[0m\u001b[0m\n\u001b[1;32m     30\u001b[0m                     \u001b[0mindex\u001b[0m \u001b[0;34m+=\u001b[0m \u001b[0;36m1\u001b[0m\u001b[0;34m\u001b[0m\u001b[0;34m\u001b[0m\u001b[0m\n\u001b[0;32m---> 31\u001b[0;31m                     \u001b[0midk\u001b[0m\u001b[0;34m(\u001b[0m\u001b[0mstring\u001b[0m\u001b[0;34m[\u001b[0m\u001b[0;34m:\u001b[0m\u001b[0mindex\u001b[0m\u001b[0;34m]\u001b[0m\u001b[0;34m)\u001b[0m\u001b[0;34m\u001b[0m\u001b[0;34m\u001b[0m\u001b[0m\n\u001b[0m\u001b[1;32m     32\u001b[0m     \u001b[0midk\u001b[0m\u001b[0;34m(\u001b[0m\u001b[0mstring\u001b[0m\u001b[0;34m)\u001b[0m\u001b[0;34m\u001b[0m\u001b[0;34m\u001b[0m\u001b[0m\n",
      "... last 1 frames repeated, from the frame below ...\n",
      "\u001b[0;32m<ipython-input-108-0e795adf2f61>\u001b[0m in \u001b[0;36midk\u001b[0;34m(string)\u001b[0m\n\u001b[1;32m     29\u001b[0m                 \u001b[0;32melse\u001b[0m\u001b[0;34m:\u001b[0m\u001b[0;34m\u001b[0m\u001b[0;34m\u001b[0m\u001b[0m\n\u001b[1;32m     30\u001b[0m                     \u001b[0mindex\u001b[0m \u001b[0;34m+=\u001b[0m \u001b[0;36m1\u001b[0m\u001b[0;34m\u001b[0m\u001b[0;34m\u001b[0m\u001b[0m\n\u001b[0;32m---> 31\u001b[0;31m                     \u001b[0midk\u001b[0m\u001b[0;34m(\u001b[0m\u001b[0mstring\u001b[0m\u001b[0;34m[\u001b[0m\u001b[0;34m:\u001b[0m\u001b[0mindex\u001b[0m\u001b[0;34m]\u001b[0m\u001b[0;34m)\u001b[0m\u001b[0;34m\u001b[0m\u001b[0;34m\u001b[0m\u001b[0m\n\u001b[0m\u001b[1;32m     32\u001b[0m     \u001b[0midk\u001b[0m\u001b[0;34m(\u001b[0m\u001b[0mstring\u001b[0m\u001b[0;34m)\u001b[0m\u001b[0;34m\u001b[0m\u001b[0;34m\u001b[0m\u001b[0m\n",
      "\u001b[0;31mRecursionError\u001b[0m: maximum recursion depth exceeded while calling a Python object"
     ]
    }
   ],
   "source": [
    "input = open(\"Day 1 Test Input\", \"r\")\n",
    "remove_letters(input)"
   ]
  },
  {
   "cell_type": "markdown",
   "metadata": {},
   "source": [
    "Day 1, Part 2 Again"
   ]
  },
  {
   "cell_type": "code",
   "execution_count": 132,
   "metadata": {},
   "outputs": [],
   "source": [
    "import re\n",
    "\n",
    "def get_first_digit(string):\n",
    "    first_part_of_string = \"\"\n",
    "    for character in string:\n",
    "        first_part_of_string += character\n",
    "        if re.search(\"1|2|3|4|5|6|7|8|9|one|two|three|four|five|six|seven|eight|nine\", first_part_of_string):\n",
    "            if re.search(\"1|2|3|4|5|6|7|8|9\", first_part_of_string):\n",
    "                for character in first_part_of_string:\n",
    "                    if character.isdigit():\n",
    "                        return character\n",
    "            if re.search(\"one|two|three|four|five|six|seven|eight|nine\", first_part_of_string):\n",
    "                first_part_of_string = first_part_of_string.replace(\"one\", \"1\")\n",
    "                first_part_of_string = first_part_of_string.replace(\"two\", \"2\")\n",
    "                first_part_of_string = first_part_of_string.replace(\"three\", \"3\")\n",
    "                first_part_of_string = first_part_of_string.replace(\"four\", \"4\")\n",
    "                first_part_of_string = first_part_of_string.replace(\"five\", \"5\")\n",
    "                first_part_of_string = first_part_of_string.replace(\"six\", \"6\")\n",
    "                first_part_of_string = first_part_of_string.replace(\"seven\", \"7\")\n",
    "                first_part_of_string = first_part_of_string.replace(\"eight\", \"8\")\n",
    "                first_part_of_string = first_part_of_string.replace(\"nine\", \"9\")\n",
    "                for character in first_part_of_string:\n",
    "                    if character.isdigit():\n",
    "                        return character"
   ]
  },
  {
   "cell_type": "code",
   "execution_count": 133,
   "metadata": {},
   "outputs": [
    {
     "data": {
      "text/plain": [
       "'4'"
      ]
     },
     "execution_count": 133,
     "metadata": {},
     "output_type": "execute_result"
    }
   ],
   "source": [
    "string_1 = \"4threethreegctxg3dmbm1\"\n",
    "get_first_digit(string_1)"
   ]
  },
  {
   "cell_type": "code",
   "execution_count": 134,
   "metadata": {},
   "outputs": [
    {
     "data": {
      "text/plain": [
       "'6'"
      ]
     },
     "execution_count": 134,
     "metadata": {},
     "output_type": "execute_result"
    }
   ],
   "source": [
    "string_2 = \"sixbfjblhsjr3\"\n",
    "get_first_digit(string_2)"
   ]
  },
  {
   "cell_type": "code",
   "execution_count": 135,
   "metadata": {},
   "outputs": [
    {
     "data": {
      "text/plain": [
       "'1'"
      ]
     },
     "execution_count": 135,
     "metadata": {},
     "output_type": "execute_result"
    }
   ],
   "source": [
    "string_3 = \"soneighttwo39ktl132\"\n",
    "get_first_digit(string_3)"
   ]
  },
  {
   "cell_type": "code",
   "execution_count": 136,
   "metadata": {},
   "outputs": [],
   "source": [
    "def get_last_digit(string):\n",
    "    last_part_of_string = \"\"\n",
    "    index = len(string) - 1\n",
    "    while index >= 0:\n",
    "#     for character in string:\n",
    "        last_part_of_string = string[index] + last_part_of_string\n",
    "        if re.search(\"1|2|3|4|5|6|7|8|9|one|two|three|four|five|six|seven|eight|nine\", last_part_of_string):\n",
    "            if re.search(\"1|2|3|4|5|6|7|8|9\", last_part_of_string):\n",
    "                for character in last_part_of_string:\n",
    "                    if character.isdigit():\n",
    "                        return character\n",
    "            if re.search(\"one|two|three|four|five|six|seven|eight|nine\", last_part_of_string):\n",
    "                last_part_of_string = last_part_of_string.replace(\"one\", \"1\")\n",
    "                last_part_of_string = last_part_of_string.replace(\"two\", \"2\")\n",
    "                last_part_of_string = last_part_of_string.replace(\"three\", \"3\")\n",
    "                last_part_of_string = last_part_of_string.replace(\"four\", \"4\")\n",
    "                last_part_of_string = last_part_of_string.replace(\"five\", \"5\")\n",
    "                last_part_of_string = last_part_of_string.replace(\"six\", \"6\")\n",
    "                last_part_of_string = last_part_of_string.replace(\"seven\", \"7\")\n",
    "                last_part_of_string = last_part_of_string.replace(\"eight\", \"8\")\n",
    "                last_part_of_string = last_part_of_string.replace(\"nine\", \"9\")\n",
    "                for character in last_part_of_string:\n",
    "                    if character.isdigit():\n",
    "                        return character\n",
    "        index-=1"
   ]
  },
  {
   "cell_type": "code",
   "execution_count": 137,
   "metadata": {},
   "outputs": [
    {
     "data": {
      "text/plain": [
       "'4'"
      ]
     },
     "execution_count": 137,
     "metadata": {},
     "output_type": "execute_result"
    }
   ],
   "source": [
    "string_4 = \"7mhpslddjtwo9sixkzdvqzvggvfoursdvd\"\n",
    "get_last_digit(string_4)"
   ]
  },
  {
   "cell_type": "code",
   "execution_count": 138,
   "metadata": {},
   "outputs": [
    {
     "data": {
      "text/plain": [
       "'9'"
      ]
     },
     "execution_count": 138,
     "metadata": {},
     "output_type": "execute_result"
    }
   ],
   "source": [
    "string_5 = \"prvdoneqmsnstjgq7bdshdninenine9\"\n",
    "get_last_digit(string_5)"
   ]
  },
  {
   "cell_type": "code",
   "execution_count": null,
   "metadata": {},
   "outputs": [],
   "source": [
    "string_6 = \"zvdhmnvnineqjghs93bmmxrtxhrvsksqgfive\"\n",
    "get_last_digit(string_6)"
   ]
  }
 ],
 "metadata": {
  "kernelspec": {
   "display_name": "Python 3",
   "language": "python",
   "name": "python3"
  },
  "language_info": {
   "codemirror_mode": {
    "name": "ipython",
    "version": 3
   },
   "file_extension": ".py",
   "mimetype": "text/x-python",
   "name": "python",
   "nbconvert_exporter": "python",
   "pygments_lexer": "ipython3",
   "version": "3.8.5"
  }
 },
 "nbformat": 4,
 "nbformat_minor": 4
}
