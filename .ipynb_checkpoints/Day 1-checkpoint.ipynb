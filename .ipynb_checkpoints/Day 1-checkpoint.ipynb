{
 "cells": [
  {
   "cell_type": "code",
   "execution_count": 46,
   "metadata": {},
   "outputs": [],
   "source": [
    "def read_input(input):\n",
    "    for line in input.readlines():\n",
    "        print(line)\n",
    "    input.close()"
   ]
  },
  {
   "cell_type": "code",
   "execution_count": 47,
   "metadata": {},
   "outputs": [
    {
     "name": "stdout",
     "output_type": "stream",
     "text": [
      "1abc2\n",
      "\n",
      "pqr3stu8vwx\n",
      "\n",
      "a1b2c3d4e5f\n",
      "\n",
      "treb7uchet\n"
     ]
    }
   ],
   "source": [
    "sample_input = open(\"Day 1 Sample Input\", \"r\")\n",
    "read_input(sample_input)"
   ]
  },
  {
   "cell_type": "code",
   "execution_count": 48,
   "metadata": {},
   "outputs": [],
   "source": [
    "def remove_letters(input):\n",
    "    num_list = []\n",
    "    for line in input.readlines():\n",
    "#         print(line)\n",
    "        numbers = \"\"\n",
    "        for character in line:\n",
    "#             print(character)\n",
    "            if character.isdigit():\n",
    "                numbers += character\n",
    "        num_list.append(numbers)\n",
    "#     print(num_list)\n",
    "    input.close()\n",
    "    return num_list"
   ]
  },
  {
   "cell_type": "code",
   "execution_count": 49,
   "metadata": {},
   "outputs": [
    {
     "data": {
      "text/plain": [
       "['12', '38', '12345', '7']"
      ]
     },
     "execution_count": 49,
     "metadata": {},
     "output_type": "execute_result"
    }
   ],
   "source": [
    "sample_input = open(\"Day 1 Sample Input\", \"r\")\n",
    "remove_letters(sample_input)"
   ]
  },
  {
   "cell_type": "code",
   "execution_count": 50,
   "metadata": {},
   "outputs": [],
   "source": [
    "def get_calibration_values(numbers):\n",
    "    calibration_values = []\n",
    "    for number_string in numbers:\n",
    "#         print(number_string[0])\n",
    "#         print(number_string[len(number_string)-1])\n",
    "        calibration_value = number_string[0] + number_string[len(number_string)-1]\n",
    "        calibration_values.append(calibration_value)\n",
    "    return calibration_values"
   ]
  },
  {
   "cell_type": "code",
   "execution_count": 51,
   "metadata": {},
   "outputs": [
    {
     "data": {
      "text/plain": [
       "['12', '38', '15', '77']"
      ]
     },
     "execution_count": 51,
     "metadata": {},
     "output_type": "execute_result"
    }
   ],
   "source": [
    "sample_input = open(\"Day 1 Sample Input\", \"r\")\n",
    "get_calibration_values(num_list)"
   ]
  },
  {
   "cell_type": "code",
   "execution_count": 52,
   "metadata": {},
   "outputs": [],
   "source": [
    "def add_calibration_values(calibration_values_list):\n",
    "    total = 0\n",
    "    for number_string in calibration_values_list:\n",
    "        total += int(number_string)\n",
    "    return total"
   ]
  },
  {
   "cell_type": "code",
   "execution_count": 53,
   "metadata": {},
   "outputs": [
    {
     "data": {
      "text/plain": [
       "142"
      ]
     },
     "execution_count": 53,
     "metadata": {},
     "output_type": "execute_result"
    }
   ],
   "source": [
    "sample_input = open(\"Day 1 Sample Input\", \"r\")\n",
    "add_calibration_values(get_calibration_values(num_list))"
   ]
  },
  {
   "cell_type": "code",
   "execution_count": 54,
   "metadata": {},
   "outputs": [
    {
     "data": {
      "text/plain": [
       "55816"
      ]
     },
     "execution_count": 54,
     "metadata": {},
     "output_type": "execute_result"
    }
   ],
   "source": [
    "input = open(\"Day 1 Input\", \"r\")\n",
    "add_calibration_values(get_calibration_values(remove_letters(input)))"
   ]
  },
  {
   "cell_type": "markdown",
   "metadata": {},
   "source": [
    "55816"
   ]
  }
 ],
 "metadata": {
  "kernelspec": {
   "display_name": "Python 3",
   "language": "python",
   "name": "python3"
  },
  "language_info": {
   "codemirror_mode": {
    "name": "ipython",
    "version": 3
   },
   "file_extension": ".py",
   "mimetype": "text/x-python",
   "name": "python",
   "nbconvert_exporter": "python",
   "pygments_lexer": "ipython3",
   "version": "3.8.5"
  }
 },
 "nbformat": 4,
 "nbformat_minor": 4
}
